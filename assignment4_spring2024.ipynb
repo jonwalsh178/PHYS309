{
  "cells": [
    {
      "cell_type": "markdown",
      "id": "33885243",
      "metadata": {
        "id": "33885243"
      },
      "source": [
        "# Bohr models of ions\n",
        "\n",
        "The Bohr model works for atoms with only one electron. Adding electrons would require accounting for their mutual Coulomb forces, which would depend on the electrons' locations in their orbits. However, there are ions that have only one electron, for which a small modification to the Bohr model can predict their energy levels.\n",
        "\n",
        "Read the notebook <tt>Bohr_model_extensions.ipynb</tt>, which is on the class GitHub page. You will be using Equation 1 to compare the photon energy that correspond to energy level transitions in hydrogen, singly-ionized helium, and doubly-ionized lithium.\n",
        "\n",
        "Note: you are responsible for importing the packages you need and making sure your axis labels are large enough to be readable.\n",
        "\n",
        "<ol>\n",
        "    <li>Write a function that finds the photon <em>energy</em> in eV (calculate it from the wavelength predicted by the Rydberg equation) that moves an electron between levels $n$ and $n+1$. The independent variables of your function should be $Z$ (atomic number) and $n$. Do not hand-code any constants: use the pre-programmed values in <tt>scipy</tt>.</li>\n",
        "</ol>"
      ]
    },
    {
      "cell_type": "code",
      "execution_count": 1,
      "id": "d9969682",
      "metadata": {
        "colab": {
          "base_uri": "https://localhost:8080/"
        },
        "id": "d9969682",
        "outputId": "8c6ba184-1361-47ac-e5ac-2d7dfc599986"
      },
      "outputs": [
        {
          "output_type": "stream",
          "name": "stdout",
          "text": [
            "n=1, 1.63e-27\n",
            "n=2, 3.03e-28\n",
            "n=3, 1.06e-28\n"
          ]
        }
      ],
      "source": [
        "# Your code here\n",
        "import numpy as np\n",
        "import math\n",
        "import matplotlib.pyplot as plt\n",
        "from scipy import constants\n",
        "%matplotlib inline\n",
        "\n",
        "def lamda(Z,n):\n",
        "  return (1e9 /(Z**2 * constants.Rydberg * (1/(n**2) - 1/((n+1)**2)))) # 1e9 / rydberg equation, in nm\n",
        "\n",
        "for n in range (1,4):\n",
        "  freq = constants.c / lamda(1,n)\n",
        "  E_total = constants.h * freq\n",
        "  print(f'n={n}, {E_total:.3g}')\n"
      ]
    },
    {
      "cell_type": "markdown",
      "id": "3eb29aa5",
      "metadata": {
        "id": "3eb29aa5"
      },
      "source": [
        "<ol start = 2>\n",
        "    <li>Use the python function of your choice to create an integer <em>array</em> (not list) of values $n = 1, 2, \\ldots, 10$. Do not simply hard-code in all the numbers by hand. Create a second array (not list) of atomic numbers $Z = 1, 2, 3$, again using a python function.</li>\n",
        "</ol>"
      ]
    },
    {
      "cell_type": "code",
      "execution_count": 2,
      "id": "105af0f4",
      "metadata": {
        "colab": {
          "base_uri": "https://localhost:8080/"
        },
        "id": "105af0f4",
        "outputId": "57f3ca65-473f-4600-c823-b9901853c58c"
      },
      "outputs": [
        {
          "output_type": "stream",
          "name": "stdout",
          "text": [
            "[array([ 1.,  2.,  3.,  4.,  5.,  6.,  7.,  8.,  9., 10.])]\n",
            "[array([1., 2., 3.])]\n"
          ]
        }
      ],
      "source": [
        "# Your code here\n",
        "n = np.linspace(1, 10, num = 10, endpoint=True)\n",
        "Z = np.linspace(1, 3, num = 3, endpoint=True)\n",
        "array = [n]\n",
        "Z_array = [Z]\n",
        "print(array)\n",
        "print(Z_array)"
      ]
    },
    {
      "cell_type": "markdown",
      "id": "fdc267f4",
      "metadata": {
        "id": "fdc267f4"
      },
      "source": [
        "<ol start=3>\n",
        "    <li>For each combination of $Z$ and $n$, calculate the energy of light required to move from level $n$ to $n+1$. Store the results in an array with 3 rows and 10 columns. You may find the meshgrid command helpful.</li>\n",
        "</ol>"
      ]
    },
    {
      "cell_type": "code",
      "execution_count": 3,
      "id": "fb38e7e0",
      "metadata": {
        "colab": {
          "base_uri": "https://localhost:8080/"
        },
        "id": "fb38e7e0",
        "outputId": "3374bd7a-ff6b-4c1e-cba9-96b5bff51abb"
      },
      "outputs": [
        {
          "output_type": "stream",
          "name": "stdout",
          "text": [
            "(3, 10)\n",
            "(3, 10) \n",
            "\n",
            "[[1.63e-27 6.54e-27 1.47e-26 2.62e-26 4.09e-26 5.89e-26 8.01e-26 1.05e-25\n",
            "  1.32e-25 1.63e-25]\n",
            " [3.03e-28 1.21e-27 2.72e-27 4.84e-27 7.57e-27 1.09e-26 1.48e-26 1.94e-26\n",
            "  2.45e-26 3.03e-26]\n",
            " [1.06e-28 4.24e-28 9.54e-28 1.70e-27 2.65e-27 3.81e-27 5.19e-27 6.78e-27\n",
            "  8.58e-27 1.06e-26]]\n"
          ]
        }
      ],
      "source": [
        "Zv, nv = np.meshgrid(n, Z)\n",
        "# Your code here\n",
        "print(Zv.shape)\n",
        "print(nv.shape, '\\n')\n",
        "Energy_array = np.zeros((3,10))\n",
        "\n",
        "for i in range(3):\n",
        "  for j in range(10):\n",
        "    freq = constants.c / lamda(Zv[i,j],nv[i,j])\n",
        "    Energy_array[i,j] = format((constants.h * freq), '.2e')\n",
        "print(Energy_array)"
      ]
    },
    {
      "cell_type": "markdown",
      "id": "4ce0665f",
      "metadata": {
        "id": "4ce0665f"
      },
      "source": [
        "<ol start=4>\n",
        "    <li>Now you are going to make a color-coded plot. With $n$ on the x-axis and $z$ on the y-axis, add a circle to your plot at each $(n,z)$ ordered pair with the color determined by the energy calculated in question 3. Make sure your plot has a colorbar to show the energy scale, and put units on the colorbar. x and y axes should also be labeled.</li>\n",
        "</ol>\n",
        "\n",
        "I am including an example plot showing arbitrary dependent variable $w$ on a color scale as a function of independent variables $u$ and $v$. None of these variables mean anything; this example is just to help you visualize what your plot should look like."
      ]
    },
    {
      "cell_type": "code",
      "execution_count": null,
      "id": "4585afc3",
      "metadata": {
        "id": "4585afc3"
      },
      "outputs": [],
      "source": [
        "from PIL import Image\n",
        "sample = Image.open(\"color_coded_scatter_example.png\")\n",
        "display(sample)"
      ]
    },
    {
      "cell_type": "markdown",
      "id": "ecf1d35d",
      "metadata": {
        "id": "ecf1d35d"
      },
      "source": [
        "Code that might help you make your plot is in the cell below. You are free to do something else if you prefer."
      ]
    },
    {
      "cell_type": "code",
      "execution_count": 10,
      "id": "d4c9baa3",
      "metadata": {
        "id": "d4c9baa3",
        "colab": {
          "base_uri": "https://localhost:8080/",
          "height": 574
        },
        "outputId": "ef72cb5f-8cd7-4575-c23c-6166bb028df8"
      },
      "outputs": [
        {
          "output_type": "execute_result",
          "data": {
            "text/plain": [
              "Text(0, 0.5, 'Energy Level')"
            ]
          },
          "metadata": {},
          "execution_count": 10
        },
        {
          "output_type": "display_data",
          "data": {
            "text/plain": [
              "<Figure size 600x600 with 2 Axes>"
            ],
            "image/png": "[encoded data removed]"
          },
          "metadata": {}
        }
      ],
      "source": [
        "from mpl_toolkits.axes_grid1 import make_axes_locatable\n",
        "\n",
        "fig, ax = plt.subplots(1, 1, figsize=(6,6))\n",
        "colors = Energy_array\n",
        "plot1 = ax.scatter(nv, Zv, c=colors, cmap='jet') # Look up how to make a color-coded scatter plot\n",
        "ax.set_aspect('equal')\n",
        "\n",
        "# Create a colorbar axis on the right side of ax. The width of cax will be 8%\n",
        "# of ax and the padding between cax and ax will be fixed at 0.1 inch.\n",
        "divider = make_axes_locatable(ax)\n",
        "cax = divider.append_axes(\"right\", size=\"8%\", pad=0.1)\n",
        "cbar = plt.colorbar(plot1, cax=cax)\n",
        "cbar.ax.tick_params(labelsize=12)\n",
        "cbar.set_label('Energy (eV)')\n",
        "ax.set_xlabel('Atomic Number')\n",
        "ax.set_ylabel('Energy Level')"
      ]
    }
  ],
  "metadata": {
    "kernelspec": {
      "display_name": "Python 3",
      "language": "python",
      "name": "python3"
    },
    "language_info": {
      "codemirror_mode": {
        "name": "ipython",
        "version": 3
      },
      "file_extension": ".py",
      "mimetype": "text/x-python",
      "name": "python",
      "nbconvert_exporter": "python",
      "pygments_lexer": "ipython3",
      "version": "3.8.8"
    },
    "colab": {
      "provenance": []
    }
  },
  "nbformat": 4,
  "nbformat_minor": 5
}